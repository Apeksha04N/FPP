{
 "cells": [
  {
   "cell_type": "code",
   "execution_count": 1,
   "id": "668e35e2-9af6-4002-a2e3-71154d3b4bbb",
   "metadata": {
    "tags": []
   },
   "outputs": [
    {
     "name": "stdout",
     "output_type": "stream",
     "text": [
      "Acquiring resource\n",
      "Using resource\n",
      "Releasing resource\n"
     ]
    }
   ],
   "source": [
    "#exceptions in python\n",
    "class MyResource:\n",
    "    def __enter__(self):\n",
    "        print(\"Acquiring resource\")\n",
    "        return self  # Return the resource object\n",
    "    \n",
    "    def __exit__(self, exc_type, exc_value, traceback):\n",
    "        print(\"Releasing resource\")\n",
    "        # Cleanup actions go here\n",
    "\n",
    "# Using the context manager\n",
    "with MyResource() as resource:\n",
    "    # Do something with the resource\n",
    "    print(\"Using resource\")"
   ]
  },
  {
   "cell_type": "code",
   "execution_count": null,
   "id": "3da9fc66-fc21-42e4-911a-a70ce6216a5f",
   "metadata": {},
   "outputs": [],
   "source": []
  }
 ],
 "metadata": {
  "kernelspec": {
   "display_name": "Python 3 (ipykernel)",
   "language": "python",
   "name": "python3"
  },
  "language_info": {
   "codemirror_mode": {
    "name": "ipython",
    "version": 3
   },
   "file_extension": ".py",
   "mimetype": "text/x-python",
   "name": "python",
   "nbconvert_exporter": "python",
   "pygments_lexer": "ipython3",
   "version": "3.11.3"
  }
 },
 "nbformat": 4,
 "nbformat_minor": 5
}
