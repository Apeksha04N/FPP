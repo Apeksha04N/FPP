{
 "cells": [
  {
   "cell_type": "code",
   "execution_count": 1,
   "id": "38a5dc8a",
   "metadata": {},
   "outputs": [
    {
     "data": {
      "text/plain": [
       "[('a', 'b'), ('c', 'd'), ('e', 'f'), ('g', 'h')]"
      ]
     },
     "execution_count": 1,
     "metadata": {},
     "output_type": "execute_result"
    }
   ],
   "source": [
    "def cstolot(list):\n",
    "    result = []\n",
    "    for i in list.split(';'):\n",
    "        result.append(tuple(i.split('=')))\n",
    "    return result\n",
    "list = \"a=b;c=d;e=f;g=h\"\n",
    "cstolot(list)"
   ]
  },
  {
   "cell_type": "code",
   "execution_count": null,
   "id": "7aea3e70",
   "metadata": {},
   "outputs": [],
   "source": []
  }
 ],
 "metadata": {
  "kernelspec": {
   "display_name": "Python 3 (ipykernel)",
   "language": "python",
   "name": "python3"
  },
  "language_info": {
   "codemirror_mode": {
    "name": "ipython",
    "version": 3
   },
   "file_extension": ".py",
   "mimetype": "text/x-python",
   "name": "python",
   "nbconvert_exporter": "python",
   "pygments_lexer": "ipython3",
   "version": "3.11.3"
  }
 },
 "nbformat": 4,
 "nbformat_minor": 5
}
