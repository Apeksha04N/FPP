{
 "cells": [
  {
   "cell_type": "code",
   "execution_count": 16,
   "id": "091c655a",
   "metadata": {},
   "outputs": [
    {
     "data": {
      "text/plain": [
       "'a=b;c=d;e=f;g=h'"
      ]
     },
     "execution_count": 16,
     "metadata": {},
     "output_type": "execute_result"
    }
   ],
   "source": [
    "# Writa function to convert\n",
    "# \"[('a','b'),('c','d'),('e','f'),('g','h')]\"\n",
    "# to\n",
    "# \"a=b;c=d;e=f;g=h\"\n",
    "\n",
    "def lottocs(list):\n",
    "    result = \"\"\n",
    "    for i in list:\n",
    "        result += \"=\".join(i) + \";\"\n",
    "    return result.strip(';')\n",
    "list = [('a','b'),('c','d'),('e','f'),('g','h')]\n",
    "lottocs(list)"
   ]
  },
  {
   "cell_type": "code",
   "execution_count": null,
   "id": "a44b25b1",
   "metadata": {},
   "outputs": [],
   "source": []
  }
 ],
 "metadata": {
  "kernelspec": {
   "display_name": "Python 3 (ipykernel)",
   "language": "python",
   "name": "python3"
  },
  "language_info": {
   "codemirror_mode": {
    "name": "ipython",
    "version": 3
   },
   "file_extension": ".py",
   "mimetype": "text/x-python",
   "name": "python",
   "nbconvert_exporter": "python",
   "pygments_lexer": "ipython3",
   "version": "3.11.3"
  }
 },
 "nbformat": 4,
 "nbformat_minor": 5
}
