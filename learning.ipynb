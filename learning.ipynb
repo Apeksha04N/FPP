{
 "cells": [
  {
   "cell_type": "code",
   "execution_count": 1,
   "id": "48149821",
   "metadata": {},
   "outputs": [
    {
     "data": {
      "text/plain": [
       "{'name': 'apeksha', 'usn': 'rvu018', 'sec': 'A'}"
      ]
     },
     "execution_count": 1,
     "metadata": {},
     "output_type": "execute_result"
    }
   ],
   "source": [
    "dic = {'name' : 'apeksha' , 'usn' : 'rvu018'} #creating the dictionary\n",
    "dic['sec'] = 'A'  #adding key:value to the list\n",
    "dic"
   ]
  },
  {
   "cell_type": "code",
   "execution_count": 2,
   "id": "0a6fbee9",
   "metadata": {},
   "outputs": [
    {
     "data": {
      "text/plain": [
       "'apeksha'"
      ]
     },
     "execution_count": 2,
     "metadata": {},
     "output_type": "execute_result"
    }
   ],
   "source": [
    "dic['name'] "
   ]
  },
  {
   "cell_type": "code",
   "execution_count": 3,
   "id": "8efe81b0",
   "metadata": {},
   "outputs": [],
   "source": [
    "del dic['sec']"
   ]
  },
  {
   "cell_type": "code",
   "execution_count": 4,
   "id": "03e41018",
   "metadata": {},
   "outputs": [
    {
     "data": {
      "text/plain": [
       "{'name': 'apeksha', 'usn': 'rvu018'}"
      ]
     },
     "execution_count": 4,
     "metadata": {},
     "output_type": "execute_result"
    }
   ],
   "source": [
    "dic"
   ]
  },
  {
   "cell_type": "code",
   "execution_count": 5,
   "id": "01e5017c",
   "metadata": {},
   "outputs": [],
   "source": [
    "dic['cls'] = 'bsc'"
   ]
  },
  {
   "cell_type": "code",
   "execution_count": 6,
   "id": "8e40b09a",
   "metadata": {},
   "outputs": [
    {
     "data": {
      "text/plain": [
       "{'name': 'apeksha', 'usn': 'rvu018', 'cls': 'bsc'}"
      ]
     },
     "execution_count": 6,
     "metadata": {},
     "output_type": "execute_result"
    }
   ],
   "source": [
    "dic"
   ]
  },
  {
   "cell_type": "code",
   "execution_count": 7,
   "id": "3ca83193",
   "metadata": {},
   "outputs": [
    {
     "data": {
      "text/plain": [
       "['name', 'usn', 'cls']"
      ]
     },
     "execution_count": 7,
     "metadata": {},
     "output_type": "execute_result"
    }
   ],
   "source": [
    "list(dic) #gives the key name in the list "
   ]
  },
  {
   "cell_type": "code",
   "execution_count": 8,
   "id": "387c4df5",
   "metadata": {},
   "outputs": [
    {
     "data": {
      "text/plain": [
       "['cls', 'name', 'usn']"
      ]
     },
     "execution_count": 8,
     "metadata": {},
     "output_type": "execute_result"
    }
   ],
   "source": [
    "sorted(dic) #sorting according to alphebetical order"
   ]
  },
  {
   "cell_type": "code",
   "execution_count": null,
   "id": "fce2a5e1",
   "metadata": {},
   "outputs": [],
   "source": []
  }
 ],
 "metadata": {
  "kernelspec": {
   "display_name": "Python 3 (ipykernel)",
   "language": "python",
   "name": "python3"
  },
  "language_info": {
   "codemirror_mode": {
    "name": "ipython",
    "version": 3
   },
   "file_extension": ".py",
   "mimetype": "text/x-python",
   "name": "python",
   "nbconvert_exporter": "python",
   "pygments_lexer": "ipython3",
   "version": "3.11.3"
  }
 },
 "nbformat": 4,
 "nbformat_minor": 5
}
