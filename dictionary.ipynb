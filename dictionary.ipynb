{
 "cells": [
  {
   "cell_type": "code",
   "execution_count": 1,
   "id": "95591a37",
   "metadata": {},
   "outputs": [
    {
     "name": "stdout",
     "output_type": "stream",
     "text": [
      "{'a': 'b', 'c': 'd', 'e': 'f', 'g': 'h'}\n"
     ]
    }
   ],
   "source": [
    "#\"a=b;c=d;e=f;g=h\" to\n",
    "# dictionary\n",
    "# {'a':'b','c':'d','e':'f','g':'h'}\n",
    "input_str = \"a=b;c=d;e=f;g=h\"\n",
    "result_dict = {}\n",
    "pairs = input_str.split(\";\")\n",
    "for pair in pairs:\n",
    "    key, value = pair.split(\"=\")\n",
    "    result_dict[key] = value\n",
    "\n",
    "print(result_dict)\n"
   ]
  },
  {
   "cell_type": "code",
   "execution_count": null,
   "id": "721ae8a3",
   "metadata": {},
   "outputs": [],
   "source": []
  }
 ],
 "metadata": {
  "kernelspec": {
   "display_name": "Python 3 (ipykernel)",
   "language": "python",
   "name": "python3"
  },
  "language_info": {
   "codemirror_mode": {
    "name": "ipython",
    "version": 3
   },
   "file_extension": ".py",
   "mimetype": "text/x-python",
   "name": "python",
   "nbconvert_exporter": "python",
   "pygments_lexer": "ipython3",
   "version": "3.11.3"
  }
 },
 "nbformat": 4,
 "nbformat_minor": 5
}
